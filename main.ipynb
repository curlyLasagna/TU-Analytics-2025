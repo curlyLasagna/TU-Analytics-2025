{
 "cells": [
  {
   "cell_type": "code",
   "execution_count": null,
   "id": "MJUe",
   "metadata": {},
   "outputs": [],
   "source": [
    "import altair as alt\n",
    "import polars as pl"
   ]
  },
  {
   "cell_type": "code",
   "execution_count": null,
   "id": "bkHC",
   "metadata": {},
   "outputs": [],
   "source": [
    "labels_df = (\n",
    "    pl.read_csv(\"Labels.csv\")\n",
    "    .filter(~pl.col(\"VariableName\").str.starts_with(\"State\"))\n",
    "    .with_columns(pl.col(\"Value\").cast(pl.Int64))\n",
    ")"
   ]
  },
  {
   "cell_type": "code",
   "execution_count": null,
   "id": "PKri",
   "metadata": {},
   "outputs": [],
   "source": [
    "data_df = pl.read_csv(\"data.csv\").drop(\n",
    "    \"UnitID\", \"Institution (entity) name (HD2023)\"\n",
    ")\n",
    "\n",
    "mapping_dict = {\n",
    "    var: dict(zip(sub_df[\"Value\"], sub_df[\"ValueLabel\"]))\n",
    "    for var, sub_df in labels_df.group_by(\"VariableName\")\n",
    "}\n",
    "\n",
    "data_df = data_df.with_columns(\n",
    "    [\n",
    "        pl.col(col).cast(pl.Utf8).replace(mapping)\n",
    "        for col, mapping in mapping_dict.items()\n",
    "    ]\n",
    ")"
   ]
  },
  {
   "cell_type": "code",
   "execution_count": null,
   "id": "BYtC",
   "metadata": {},
   "outputs": [],
   "source": [
    "from json import load\n",
    "\n",
    "with open(\"Ranking_datasets/niche-800.json\", \"r\") as f:\n",
    "    niche_json = load(f)\n",
    "\n",
    "with open(\"Ranking_datasets/Forbes-Ranking-2025.json\") as f:\n",
    "    forbes_json = load(f)\n",
    "\n",
    "with open(\"Ranking_datasets/timeshighered-2022.json\") as f:\n",
    "    times_json = load(f)\n",
    "\n",
    "niche_rankings = {}\n",
    "forbes_rankings = {}\n",
    "highered_rankings = {}\n",
    "for idx, university in enumerate(niche_json[\"entities\"]):\n",
    "    niche_rankings[university[\"content\"][\"entity\"][\"name\"]] = idx + 1\n",
    "\n",
    "niche_df = pl.DataFrame(\n",
    "    {\"Institution\": niche_rankings.keys(), \"Ranking\": niche_rankings.values()}\n",
    ")\n",
    "\n",
    "for university in forbes_json[\"organizationList\"][\"organizationsLists\"]:\n",
    "    forbes_rankings[university[\"organizationName\"]] = university[\"rank\"]\n",
    "\n",
    "forbes_df = pl.DataFrame(\n",
    "    {\n",
    "        \"Institution\": forbes_rankings.keys(),\n",
    "        \"Ranking\": forbes_rankings.values(),\n",
    "    }\n",
    ")\n",
    "for university in times_json[\"data\"]:\n",
    "    highered_rankings[university[\"name\"]] = university[\"rank_order\"]\n",
    "\n",
    "highered_df = pl.DataFrame(\n",
    "    {\n",
    "        \"Institution\": highered_rankings.keys(),\n",
    "        \"Ranking\": highered_rankings.values(),\n",
    "    }\n",
    ").with_columns(pl.col(\"Ranking\").cast(pl.Int32))"
   ]
  },
  {
   "cell_type": "code",
   "execution_count": null,
   "id": "RGSE",
   "metadata": {},
   "outputs": [],
   "source": [
    "from thefuzz import fuzz\n",
    "\n",
    "\n",
    "def fuzzy_join(\n",
    "    left_df: pl.DataFrame,\n",
    "    right_df: pl.DataFrame,\n",
    "    left_on: str = \"Institution Name\",\n",
    "    right_on: str = \"Institution\",\n",
    "    threshold: int = 97,\n",
    ") -> pl.DataFrame:\n",
    "    \"\"\"\n",
    "    Perform a fuzzy join between two Polars DataFrames using token_sort_ratio.\n",
    "    Parameters:\n",
    "    -----------\n",
    "    left_df : pl.DataFrame\n",
    "        The left DataFrame to join\n",
    "    right_df : pl.DataFrame\n",
    "        The right DataFrame to join\n",
    "    left_on : str\n",
    "        The column name in the left DataFrame to match\n",
    "    right_on : str\n",
    "        The column name in the right DataFrame to match\n",
    "    threshold : int, optional (default=80)\n",
    "        Minimum similarity score to consider a match (0-100)\n",
    "\n",
    "    Returns:\n",
    "    --------\n",
    "    pl.DataFrame\n",
    "        Joined DataFrame with matches above the similarity threshold\n",
    "    \"\"\"\n",
    "    # Create cartesian product of DataFrames\n",
    "    cross_df = left_df.join(right_df, how=\"cross\")\n",
    "\n",
    "    # Apply fuzzy matching using token_sort_ratio\n",
    "    matched_df = cross_df.with_columns(\n",
    "        [\n",
    "            pl.struct([pl.col(left_on), pl.col(right_on)])\n",
    "            .map_elements(\n",
    "                lambda x: fuzz.token_sort_ratio(\n",
    "                    str(x[left_on]), str(x[right_on])\n",
    "                ),\n",
    "                return_dtype=pl.Int64,\n",
    "            )\n",
    "            .alias(\"similarity_score\")\n",
    "        ]\n",
    "    ).filter(pl.col(\"similarity_score\") >= threshold)\n",
    "\n",
    "    return matched_df\n",
    "\n",
    "\n",
    "# Map the rankings from external sources with the original data\n",
    "merged_niche = fuzzy_join(data_df, niche_df)\n",
    "merged_forbes = fuzzy_join(data_df, forbes_df)\n",
    "merged_highered = fuzzy_join(data_df, highered_df)"
   ]
  },
  {
   "cell_type": "code",
   "execution_count": null,
   "id": "ROlb",
   "metadata": {},
   "outputs": [],
   "source": [
    "peers = [\n",
    "    \"Appalachian State University\",\n",
    "    \"California State University-Fullerton\",\n",
    "    \"Indiana University of Pennsylvania-Main Campus\",\n",
    "    \"James Madison University\",\n",
    "    \"Minnesota State University-Mankato\",\n",
    "    \"Montclair State University\",\n",
    "    \"University of Massachusetts-Dartmouth\",\n",
    "    \"University of North Carolina at Charlotte\",\n",
    "    \"University of North Carolina Wilmington\",\n",
    "    \"West Chester University of Pennsylvania\",\n",
    "    \"Western Washington University\",\n",
    "]"
   ]
  },
  {
   "cell_type": "code",
   "execution_count": null,
   "id": "nWHF",
   "metadata": {},
   "outputs": [],
   "source": [
    "merged_forbes.filter(\n",
    "    pl.col(\"Institution Name\").is_in(peers + [\"Towson University\"])\n",
    ").select([\"Ranking\", \"Institution Name\"])"
   ]
  },
  {
   "cell_type": "code",
   "execution_count": null,
   "id": "iLit",
   "metadata": {},
   "outputs": [],
   "source": [
    "merged_niche.filter(\n",
    "    pl.col(\"Institution Name\").is_in(peers + [\"Towson University\"])\n",
    ").select([\"Ranking\", \"Institution Name\"])"
   ]
  },
  {
   "cell_type": "code",
   "execution_count": null,
   "id": "TqIu",
   "metadata": {},
   "outputs": [],
   "source": [
    "column_ranges = {\n",
    "    \"Degrees Conferred\": (16, 21),\n",
    "    \"Financial Aid\": (21, 27),\n",
    "    \"fin_perc\": (21, 23),\n",
    "    \"fin_avg\": (23, 25),\n",
    "    \"Student Success\": (28, 32),\n",
    "    \"Revenues\": (32, 46),\n",
    "    \"Expenditures\": (46, 61),\n",
    "    \"Library\": (64, 71),\n",
    "    \"Admissions\": (71, 74),\n",
    "    \"Race\": (87, 96),\n",
    "    \"Population\": (81, 84),\n",
    "    \"Graduation Rate\": (29, 32),\n",
    "}\n",
    "\n",
    "col_sel = {k: pl.nth(range(*v)) for k, v in column_ranges.items()}"
   ]
  },
  {
   "cell_type": "code",
   "execution_count": null,
   "id": "emfo",
   "metadata": {},
   "outputs": [],
   "source": [
    "def TU_Compare(df: pl.DataFrame, rank_dif: int, cols):\n",
    "    \"\"\"\n",
    "    Returns a chart to compare TU with institutions based on ranking from the dataframe passed\n",
    "    \"\"\"\n",
    "    sorted_rank = df.sort(by=\"Ranking\").with_row_index()\n",
    "\n",
    "    TU_index = sorted_rank.filter(\n",
    "        pl.col(\"Institution Name\") == \"Towson University\"\n",
    "    ).item(0, \"index\")\n",
    "\n",
    "    sorted_rank = sorted_rank[\n",
    "        TU_index - rank_dif : TU_index + rank_dif\n",
    "    ].select(\"Institution Name\", \"Ranking\", col_sel[cols])\n",
    "\n",
    "    df_melted = sorted_rank.unpivot(index=\"Institution Name\").filter(\n",
    "        pl.col(\"variable\") != \"Ranking\"\n",
    "    )\n",
    "    return (\n",
    "        alt.Chart(df_melted)\n",
    "        .mark_bar()\n",
    "        .encode(\n",
    "            x=alt.X(\n",
    "                \"Institution Name:N\",\n",
    "                title=\"Institution Name\",\n",
    "                sort=alt.EncodingSortField(field=\"Ranking\", order=\"ascending\"),\n",
    "            ),\n",
    "            y=alt.Y(\"value:Q\", title=\"Value\"),\n",
    "            xOffset=\"variable:N\",\n",
    "            color=alt.Color(\"variable:N\", title=\"Category\"),\n",
    "            tooltip=[\"Institution Name\", \"variable\", \"value\"],\n",
    "        )\n",
    "        .properties(width=1500, height=900)\n",
    "    )"
   ]
  },
  {
   "cell_type": "code",
   "execution_count": null,
   "id": "Hstk",
   "metadata": {},
   "outputs": [],
   "source": [
    "TU_Compare(merged_forbes, 20, \"Admissions\")"
   ]
  },
  {
   "cell_type": "code",
   "execution_count": null,
   "id": "Vxnm",
   "metadata": {},
   "outputs": [],
   "source": [
    "data_df.select(\"Institution Name\", col_sel[\"Admissions\"])"
   ]
  },
  {
   "cell_type": "code",
   "execution_count": null,
   "id": "ulZA",
   "metadata": {},
   "outputs": [],
   "source": [
    "TU_pop = data_df.filter(pl.col(\"Institution Name\") == \"Towson University\")[\n",
    "    \"Grand total (EF2023A  All students total)\"\n",
    "][0]\n",
    "\n",
    "institutes_list = data_df.filter(\n",
    "    pl.col(\"Grand total (EF2023A  All students total)\").is_between(\n",
    "        TU_pop - 2000, TU_pop + 2000\n",
    "    )\n",
    ")[\"Institution Name\"]"
   ]
  },
  {
   "cell_type": "code",
   "execution_count": null,
   "id": "aLJB",
   "metadata": {},
   "outputs": [],
   "source": [
    "merged_niche.select(\n",
    "    \"Institution Name\",\n",
    "    \"Ranking\",\n",
    "    \"U.S. Nonresident total (EF2023A  All students total)\",\n",
    "    \"Grand total (EF2023  All students total)\",\n",
    "    col_sel[\"Expenditures\"],\n",
    ").with_columns(\n",
    "    (\n",
    "        pl.col(\"U.S. Nonresident total (EF2023A  All students total)\")\n",
    "        / pl.col(\"Grand total (EF2023  All students total)\")\n",
    "    )\n",
    "    .alias(\"International student in %\")\n",
    "    .round(2)\n",
    ").select(\n",
    "    \"Ranking\",\n",
    "    \"Research expenses as a percent of total core expenses (GASB) (DRVF2023)\",\n",
    "    \"Institution Name\",\n",
    "    \"International student in %\",\n",
    ").filter(\n",
    "    ~pl.col(\n",
    "        \"Research expenses as a percent of total core expenses (GASB) (DRVF2023)\"\n",
    "    ).is_null(),\n",
    ")"
   ]
  },
  {
   "cell_type": "code",
   "execution_count": null,
   "id": "nHfw",
   "metadata": {},
   "outputs": [],
   "source": [
    "data_df.select(col_sel[\"Financial Aid\"]).describe()"
   ]
  },
  {
   "cell_type": "code",
   "execution_count": null,
   "id": "xXTn",
   "metadata": {},
   "outputs": [],
   "source": [
    "f\"\"\"TU is slightly above average in terms of federal pell grant awarded to UG students at\n",
    "{\n",
    "    data_df.filter(pl.col(\"Institution Name\") == \"Towson University\").item(\n",
    "        0,\n",
    "        \"Average amount Federal Pell grant aid awarded to undergraduate students (SFA2223)\",\n",
    "    )\n",
    "}\n",
    "\"\"\""
   ]
  },
  {
   "cell_type": "code",
   "execution_count": null,
   "id": "pHFh",
   "metadata": {},
   "outputs": [],
   "source": [
    "TU_population = 19527\n",
    "TU_admission_rate = 0.83\n",
    "\n",
    "data_df.with_columns(\n",
    "    (\n",
    "        pl.col(\"Admissions total (ADM2023)\")\n",
    "        / pl.col(\"Applicants total (ADM2023)\")\n",
    "    ).alias(\"Admission Rate\")\n",
    ").filter(\n",
    "    (pl.col(\"Carnegie Classification 2021: Basic (HD2023)\")\n",
    "    == \"Master's Colleges & Universities: Larger Programs\")\n",
    "    & (pl.col(\"Grand total (EF2023  All students total)\").is_between(\n",
    "        TU_population - 8000, TU_population + 8000\n",
    "    ))\n",
    "    & (pl.col(\"Admission Rate\").is_between(\n",
    "        TU_admission_rate - 0.10, TU_admission_rate + 0.10\n",
    "    ))\n",
    ")"
   ]
  },
  {
   "cell_type": "code",
   "execution_count": null,
   "id": "NCOB",
   "metadata": {},
   "outputs": [],
   "source": [
    "data_df.filter(\n",
    "    pl.col(\"Carnegie Classification 2021: Basic (HD2023)\")\n",
    "    == \"Master's Colleges & Universities: Larger Programs\"\n",
    ")"
   ]
  },
  {
   "cell_type": "code",
   "execution_count": null,
   "id": "TXez",
   "metadata": {},
   "outputs": [],
   "source": [
    "from sklearn.preprocessing import MinMaxScaler\n",
    "\n",
    "scaler = MinMaxScaler()\n",
    "\n",
    "scaled_df = pl.DataFrame(\n",
    "    scaler.fit_transform(\n",
    "        merged_forbes.select(col_sel[\"Expenditures\"]).to_numpy()\n",
    "    ),\n",
    "    schema=merged_forbes.columns[\n",
    "        column_ranges[\"Expenditures\"][0] : column_ranges[\"Expenditures\"][1]\n",
    "    ],\n",
    ")\n",
    "scaled_df"
   ]
  },
  {
   "cell_type": "code",
   "execution_count": null,
   "id": "dNNg",
   "metadata": {},
   "outputs": [],
   "source": [
    "import marimo as mo"
   ]
  },
  {
   "cell_type": "markdown",
   "id": "Hbol",
   "metadata": {
    "marimo": {
     "config": {
      "hide_code": true
     }
    }
   },
   "source": [
    "# Exploring the data\n",
    "\n",
    "Ideas:\n",
    "- Train a model that eventually matches with real world rankings\n",
    "- Determine the features that have the most impact based on the weights"
   ]
  },
  {
   "cell_type": "markdown",
   "id": "vblA",
   "metadata": {
    "marimo": {
     "config": {
      "hide_code": true
     }
    }
   },
   "source": [
    "## Mapping labels with string classification\n",
    "\n",
    "Un-doing the categorical encoding already presented to get a better understanding of the data."
   ]
  },
  {
   "cell_type": "markdown",
   "id": "lEQa",
   "metadata": {
    "marimo": {
     "config": {
      "hide_code": true
     }
    }
   },
   "source": [
    "## Data decoding"
   ]
  },
  {
   "cell_type": "markdown",
   "id": "Xref",
   "metadata": {
    "marimo": {
     "config": {
      "hide_code": true
     }
    }
   },
   "source": [
    "## Add real world rankings\n",
    "\n",
    "Add columns on where an institution ranks\n",
    "\n",
    "Each real world ranking such as:\n",
    "- U.S. News Best Colleges\n",
    "- Wall Street Journal\n",
    "- Princeton Review\n",
    "- Forbes\n",
    "- Washington Monthly\n",
    "\n",
    "Analyze and look for patterns for each rankings with the variables from the original data"
   ]
  },
  {
   "cell_type": "markdown",
   "id": "SFPL",
   "metadata": {
    "marimo": {
     "config": {
      "hide_code": true
     }
    }
   },
   "source": [
    "### External College Rankings\n",
    "\n",
    "External rankings use different annotations so an exact merge is not always possible.\n",
    "Use fuzzy matching with a threshold of 97 for accuracy\n",
    "\n",
    "#### Niche\n",
    "\n",
    "TU ranks 341.\n",
    "\n",
    "#### Forbes 2025\n",
    "\n",
    "TU ranks 174\n",
    "\n",
    "#### Times Higher Ed\n",
    "\n",
    "TU ranks 391"
   ]
  },
  {
   "cell_type": "markdown",
   "id": "Kclp",
   "metadata": {},
   "source": [
    "### Financial Aid\n",
    "\n",
    "I'm going to guess that TU excels at financial aid\n",
    "\n",
    "Find the relationship between student success and the percentage of students awarded grants etc.\n",
    "\n",
    "Study shows that students tend to perform best when they're not stressed about paying for college.\n",
    "\n",
    "Student retention also tends to be so much better\n",
    "\n",
    "TODO:\n",
    "\n",
    "- Rank where TU falls in terms of average amount of grants awarded"
   ]
  },
  {
   "cell_type": "markdown",
   "id": "ZHCJ",
   "metadata": {},
   "source": [
    "According to https://www.towson.edu/ir/reports.html the following are the peer institutions that TU leadership would like to compete with.\n",
    "\n",
    "For the competition, we have to create our own list of institutions."
   ]
  },
  {
   "cell_type": "markdown",
   "id": "qnkX",
   "metadata": {
    "marimo": {
     "config": {
      "hide_code": true
     }
    }
   },
   "source": [
    "## Column Groupings\n",
    "\n",
    "To avoid the possibility of carpal tunnel, we group the columns.\n",
    "It's a (-2, +1) column ranges"
   ]
  },
  {
   "cell_type": "markdown",
   "id": "DnEU",
   "metadata": {
    "marimo": {
     "config": {
      "hide_code": true
     }
    }
   },
   "source": [
    "#### Grouping by population size"
   ]
  },
  {
   "cell_type": "markdown",
   "id": "ecfG",
   "metadata": {
    "marimo": {
     "config": {
      "hide_code": true
     }
    }
   },
   "source": [
    "#### How TU compares to other Maryland colleges"
   ]
  },
  {
   "cell_type": "markdown",
   "id": "Pvdt",
   "metadata": {
    "marimo": {
     "config": {
      "hide_code": true
     }
    }
   },
   "source": [
    "#### Relationship between admission rate and student success\n",
    "\n",
    "Compare the ranking of TU with next and previous 5 ranked institutions\n",
    "So does TU need to be more selective in order to rank higher?\n",
    "\n",
    "Swear to god some kids here should've stayed in High School"
   ]
  },
  {
   "cell_type": "markdown",
   "id": "ZBYS",
   "metadata": {},
   "source": [
    "Towson's research expenses is only at 2%.\n",
    "\n",
    "Find the relationship between research expenses and the number of international students"
   ]
  },
  {
   "cell_type": "markdown",
   "id": "AjVT",
   "metadata": {},
   "source": [
    "### Peer Institutions\n",
    "\n",
    "Peer institutions will have similar:\n",
    "\n",
    "- Carnegie classification\n",
    "- Population size\n",
    "- Admissions rate"
   ]
  },
  {
   "cell_type": "markdown",
   "id": "aqbW",
   "metadata": {
    "marimo": {
     "config": {
      "hide_code": true
     }
    }
   },
   "source": [
    "## Data Preprocessing"
   ]
  },
  {
   "cell_type": "markdown",
   "id": "TRpd",
   "metadata": {},
   "source": [
    "### Weights of each different types of expenses\n",
    "\n",
    "Use a learning to rank model to rank each institution\n",
    "\n",
    "Get the weights of the greatest accuracy"
   ]
  }
 ],
 "metadata": {},
 "nbformat": 4,
 "nbformat_minor": 5
}
