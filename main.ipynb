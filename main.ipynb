{
 "cells": [
  {
   "cell_type": "code",
   "execution_count": 1,
   "id": "MJUe",
   "metadata": {},
   "outputs": [],
   "source": [
    "import altair as alt\n",
    "import polars as pl"
   ]
  },
  {
   "cell_type": "code",
   "execution_count": 2,
   "id": "bkHC",
   "metadata": {},
   "outputs": [],
   "source": [
    "labels_df = (\n",
    "    pl.read_csv(\"Labels.csv\")\n",
    "    .filter(~pl.col(\"VariableName\").str.starts_with(\"State\"))\n",
    "    .with_columns(pl.col(\"Value\").cast(pl.Int64))\n",
    ")"
   ]
  },
  {
   "cell_type": "code",
   "execution_count": 3,
   "id": "PKri",
   "metadata": {},
   "outputs": [],
   "source": [
    "data_df = pl.read_csv(\"data.csv\").drop(\n",
    "    \"UnitID\", \"Institution (entity) name (HD2023)\"\n",
    ")\n",
    "\n",
    "mapping_dict = {\n",
    "    var: dict(zip(sub_df[\"Value\"], sub_df[\"ValueLabel\"]))\n",
    "    for var, sub_df in labels_df.group_by(\"VariableName\")\n",
    "}\n",
    "\n",
    "data_df = data_df.with_columns(\n",
    "    [\n",
    "        pl.col(col).cast(pl.Utf8).replace(mapping)\n",
    "        for col, mapping in mapping_dict.items()\n",
    "    ]\n",
    ")"
   ]
  },
  {
   "cell_type": "code",
   "execution_count": 4,
   "id": "BYtC",
   "metadata": {},
   "outputs": [],
   "source": [
    "from json import load\n",
    "\n",
    "with open(\"Ranking_datasets/niche-800.json\", \"r\") as f:\n",
    "    niche_json = load(f)\n",
    "\n",
    "with open(\"Ranking_datasets/Forbes-Ranking-2025.json\") as f:\n",
    "    forbes_json = load(f)\n",
    "\n",
    "with open(\"Ranking_datasets/timeshighered-2022.json\") as f:\n",
    "    times_json = load(f)\n",
    "\n",
    "niche_rankings = {}\n",
    "forbes_rankings = {}\n",
    "highered_rankings = {}\n",
    "for idx, university in enumerate(niche_json[\"entities\"]):\n",
    "    niche_rankings[university[\"content\"][\"entity\"][\"name\"]] = idx + 1\n",
    "\n",
    "niche_df = pl.DataFrame(\n",
    "    {\"Institution\": niche_rankings.keys(), \"Ranking\": niche_rankings.values()}\n",
    ")\n",
    "\n",
    "for university in forbes_json[\"organizationList\"][\"organizationsLists\"]:\n",
    "    forbes_rankings[university[\"organizationName\"]] = university[\"rank\"]\n",
    "\n",
    "forbes_df = pl.DataFrame(\n",
    "    {\n",
    "        \"Institution\": forbes_rankings.keys(),\n",
    "        \"Ranking\": forbes_rankings.values(),\n",
    "    }\n",
    ")\n",
    "for university in times_json[\"data\"]:\n",
    "    highered_rankings[university[\"name\"]] = university[\"rank_order\"]\n",
    "\n",
    "highered_df = pl.DataFrame(\n",
    "    {\n",
    "        \"Institution\": highered_rankings.keys(),\n",
    "        \"Ranking\": highered_rankings.values(),\n",
    "    }\n",
    ").with_columns(pl.col(\"Ranking\").cast(pl.Int32))"
   ]
  },
  {
   "cell_type": "code",
   "execution_count": 5,
   "id": "RGSE",
   "metadata": {},
   "outputs": [],
   "source": [
    "from thefuzz import fuzz\n",
    "\n",
    "\n",
    "def fuzzy_join(\n",
    "    left_df: pl.DataFrame,\n",
    "    right_df: pl.DataFrame,\n",
    "    left_on: str = \"Institution Name\",\n",
    "    right_on: str = \"Institution\",\n",
    "    threshold: int = 97,\n",
    ") -> pl.DataFrame:\n",
    "    \"\"\"\n",
    "    Perform a fuzzy join between two Polars DataFrames using token_sort_ratio.\n",
    "    Parameters:\n",
    "    -----------\n",
    "    left_df : pl.DataFrame\n",
    "        The left DataFrame to join\n",
    "    right_df : pl.DataFrame\n",
    "        The right DataFrame to join\n",
    "    left_on : str\n",
    "        The column name in the left DataFrame to match\n",
    "    right_on : str\n",
    "        The column name in the right DataFrame to match\n",
    "    threshold : int, optional (default=80)\n",
    "        Minimum similarity score to consider a match (0-100)\n",
    "\n",
    "    Returns:\n",
    "    --------\n",
    "    pl.DataFrame\n",
    "        Joined DataFrame with matches above the similarity threshold\n",
    "    \"\"\"\n",
    "    # Create cartesian product of DataFrames\n",
    "    cross_df = left_df.join(right_df, how=\"cross\")\n",
    "\n",
    "    # Apply fuzzy matching using token_sort_ratio\n",
    "    matched_df = cross_df.with_columns(\n",
    "        [\n",
    "            pl.struct([pl.col(left_on), pl.col(right_on)])\n",
    "            .map_elements(\n",
    "                lambda x: fuzz.token_sort_ratio(\n",
    "                    str(x[left_on]), str(x[right_on])\n",
    "                ),\n",
    "                return_dtype=pl.Int64,\n",
    "            )\n",
    "            .alias(\"similarity_score\")\n",
    "        ]\n",
    "    ).filter(pl.col(\"similarity_score\") >= threshold)\n",
    "\n",
    "    return matched_df\n",
    "\n",
    "\n",
    "# Map the rankings from external sources with the original data\n",
    "merged_niche = fuzzy_join(data_df, niche_df)\n",
    "merged_forbes = fuzzy_join(data_df, forbes_df)\n",
    "merged_highered = fuzzy_join(data_df, highered_df)"
   ]
  },
  {
   "cell_type": "code",
   "execution_count": 7,
   "id": "ROlb",
   "metadata": {},
   "outputs": [],
   "source": [
    "peers = [\n",
    "    \"Appalachian State University\",\n",
    "    \"California State University-Fullerton\",\n",
    "    \"Indiana University of Pennsylvania-Main Campus\",\n",
    "    \"James Madison University\",\n",
    "    \"Minnesota State University-Mankato\",\n",
    "    \"Montclair State University\",\n",
    "    \"University of Massachusetts-Dartmouth\",\n",
    "    \"University of North Carolina at Charlotte\",\n",
    "    \"University of North Carolina Wilmington\",\n",
    "    \"West Chester University of Pennsylvania\",\n",
    "    \"Western Washington University\",\n",
    "]"
   ]
  },
  {
   "cell_type": "code",
   "execution_count": 8,
   "id": "nWHF",
   "metadata": {},
   "outputs": [
    {
     "data": {
      "text/html": [
       "<div><style>\n",
       ".dataframe > thead > tr,\n",
       ".dataframe > tbody > tr {\n",
       "  text-align: right;\n",
       "  white-space: pre-wrap;\n",
       "}\n",
       "</style>\n",
       "<small>shape: (7, 2)</small><table border=\"1\" class=\"dataframe\"><thead><tr><th>Ranking</th><th>Institution Name</th></tr><tr><td>i64</td><td>str</td></tr></thead><tbody><tr><td>256</td><td>&quot;Appalachian State University&quot;</td></tr><tr><td>100</td><td>&quot;California State University-Fu…</td></tr><tr><td>136</td><td>&quot;James Madison University&quot;</td></tr><tr><td>386</td><td>&quot;Montclair State University&quot;</td></tr><tr><td>174</td><td>&quot;Towson University&quot;</td></tr><tr><td>482</td><td>&quot;University of North Carolina W…</td></tr><tr><td>215</td><td>&quot;Western Washington University&quot;</td></tr></tbody></table></div>"
      ],
      "text/plain": [
       "shape: (7, 2)\n",
       "┌─────────┬─────────────────────────────────┐\n",
       "│ Ranking ┆ Institution Name                │\n",
       "│ ---     ┆ ---                             │\n",
       "│ i64     ┆ str                             │\n",
       "╞═════════╪═════════════════════════════════╡\n",
       "│ 256     ┆ Appalachian State University    │\n",
       "│ 100     ┆ California State University-Fu… │\n",
       "│ 136     ┆ James Madison University        │\n",
       "│ 386     ┆ Montclair State University      │\n",
       "│ 174     ┆ Towson University               │\n",
       "│ 482     ┆ University of North Carolina W… │\n",
       "│ 215     ┆ Western Washington University   │\n",
       "└─────────┴─────────────────────────────────┘"
      ]
     },
     "execution_count": 8,
     "metadata": {},
     "output_type": "execute_result"
    }
   ],
   "source": [
    "merged_forbes.filter(\n",
    "    pl.col(\"Institution Name\").is_in(peers + [\"Towson University\"])\n",
    ").select([\"Ranking\", \"Institution Name\"])"
   ]
  },
  {
   "cell_type": "code",
   "execution_count": null,
   "id": "iLit",
   "metadata": {},
   "outputs": [],
   "source": [
    "merged_niche.filter(\n",
    "    pl.col(\"Institution Name\").is_in(peers + [\"Towson University\"])\n",
    ").select([\"Ranking\", \"Institution Name\"])"
   ]
  },
  {
   "cell_type": "code",
   "execution_count": null,
   "id": "TqIu",
   "metadata": {},
   "outputs": [],
   "source": [
    "column_ranges = {\n",
    "    \"Degrees Conferred\": (16, 21),\n",
    "    \"Financial Aid\": (21, 27),\n",
    "    \"fin_perc\": (21, 23),\n",
    "    \"fin_avg\": (23, 25),\n",
    "    \"Student Success\": (28, 32),\n",
    "    \"Revenues\": (32, 46),\n",
    "    \"Expenditures\": (46, 61),\n",
    "    \"Library\": (64, 71),\n",
    "    \"Admissions\": (71, 74),\n",
    "    \"Race\": (87, 96),\n",
    "    \"Population\": (81, 84),\n",
    "    \"Graduation Rate\": (29, 32),\n",
    "}\n",
    "\n",
    "col_sel = {k: pl.nth(range(*v)) for k, v in column_ranges.items()}"
   ]
  },
  {
   "cell_type": "code",
   "execution_count": null,
   "id": "emfo",
   "metadata": {},
   "outputs": [],
   "source": [
    "def TU_Compare(df: pl.DataFrame, rank_dif: int, cols):\n",
    "    \"\"\"\n",
    "    Returns a chart to compare TU with institutions based on ranking from the dataframe passed\n",
    "    \"\"\"\n",
    "    sorted_rank = df.sort(by=\"Ranking\").with_row_index()\n",
    "\n",
    "    TU_index = sorted_rank.filter(\n",
    "        pl.col(\"Institution Name\") == \"Towson University\"\n",
    "    ).item(0, \"index\")\n",
    "\n",
    "    sorted_rank = sorted_rank[\n",
    "        TU_index - rank_dif : TU_index + rank_dif\n",
    "    ].select(\"Institution Name\", \"Ranking\", col_sel[cols])\n",
    "\n",
    "    df_melted = sorted_rank.unpivot(index=\"Institution Name\").filter(\n",
    "        pl.col(\"variable\") != \"Ranking\"\n",
    "    )\n",
    "    return (\n",
    "        alt.Chart(df_melted)\n",
    "        .mark_bar()\n",
    "        .encode(\n",
    "            x=alt.X(\n",
    "                \"Institution Name:N\",\n",
    "                title=\"Institution Name\",\n",
    "                sort=alt.EncodingSortField(field=\"Ranking\", order=\"ascending\"),\n",
    "            ),\n",
    "            y=alt.Y(\"value:Q\", title=\"Value\"),\n",
    "            xOffset=\"variable:N\",\n",
    "            color=alt.Color(\"variable:N\", title=\"Category\"),\n",
    "            tooltip=[\"Institution Name\", \"variable\", \"value\"],\n",
    "        )\n",
    "        .properties(width=1500, height=900)\n",
    "    )"
   ]
  },
  {
   "cell_type": "code",
   "execution_count": null,
   "id": "Hstk",
   "metadata": {},
   "outputs": [],
   "source": [
    "TU_Compare(merged_forbes, 20, \"Admissions\")"
   ]
  },
  {
   "cell_type": "code",
   "execution_count": null,
   "id": "Vxnm",
   "metadata": {},
   "outputs": [],
   "source": [
    "data_df.select(\"Institution Name\", col_sel[\"Admissions\"])"
   ]
  },
  {
   "cell_type": "code",
   "execution_count": null,
   "id": "ulZA",
   "metadata": {},
   "outputs": [],
   "source": [
    "TU_pop = data_df.filter(pl.col(\"Institution Name\") == \"Towson University\")[\n",
    "    \"Grand total (EF2023A  All students total)\"\n",
    "][0]\n",
    "\n",
    "institutes_list = data_df.filter(\n",
    "    pl.col(\"Grand total (EF2023A  All students total)\").is_between(\n",
    "        TU_pop - 2000, TU_pop + 2000\n",
    "    )\n",
    ")[\"Institution Name\"]"
   ]
  },
  {
   "cell_type": "code",
   "execution_count": null,
   "id": "aLJB",
   "metadata": {},
   "outputs": [],
   "source": [
    "merged_niche.select(\n",
    "    \"Institution Name\",\n",
    "    \"Ranking\",\n",
    "    \"U.S. Nonresident total (EF2023A  All students total)\",\n",
    "    \"Grand total (EF2023  All students total)\",\n",
    "    col_sel[\"Expenditures\"],\n",
    ").with_columns(\n",
    "    (\n",
    "        pl.col(\"U.S. Nonresident total (EF2023A  All students total)\")\n",
    "        / pl.col(\"Grand total (EF2023  All students total)\")\n",
    "    )\n",
    "    .alias(\"International student in %\")\n",
    "    .round(2)\n",
    ").select(\n",
    "    \"Ranking\",\n",
    "    \"Research expenses as a percent of total core expenses (GASB) (DRVF2023)\",\n",
    "    \"Institution Name\",\n",
    "    \"International student in %\",\n",
    ").filter(\n",
    "    ~pl.col(\n",
    "        \"Research expenses as a percent of total core expenses (GASB) (DRVF2023)\"\n",
    "    ).is_null(),\n",
    ")"
   ]
  },
  {
   "cell_type": "code",
   "execution_count": null,
   "id": "nHfw",
   "metadata": {},
   "outputs": [],
   "source": [
    "data_df.select(col_sel[\"Financial Aid\"]).describe()"
   ]
  },
  {
   "cell_type": "code",
   "execution_count": null,
   "id": "xXTn",
   "metadata": {},
   "outputs": [],
   "source": [
    "f\"\"\"TU is slightly above average in terms of federal pell grant awarded to UG students at\n",
    "{\n",
    "    data_df.filter(pl.col(\"Institution Name\") == \"Towson University\").item(\n",
    "        0,\n",
    "        \"Average amount Federal Pell grant aid awarded to undergraduate students (SFA2223)\",\n",
    "    )\n",
    "}\n",
    "\"\"\""
   ]
  },
  {
   "cell_type": "code",
   "execution_count": 10,
   "id": "pHFh",
   "metadata": {},
   "outputs": [
    {
     "data": {
      "text/html": [
       "<div><style>\n",
       ".dataframe > thead > tr,\n",
       ".dataframe > tbody > tr {\n",
       "  text-align: right;\n",
       "  white-space: pre-wrap;\n",
       "}\n",
       "</style>\n",
       "<small>shape: (9, 106)</small><table border=\"1\" class=\"dataframe\"><thead><tr><th>Institution Name</th><th>Historically Black College or University (HD2023)</th><th>Tribal college (HD2023)</th><th>Carnegie Classification 2021: Basic (HD2023)</th><th>Institution grants a medical degree (HD2023)</th><th>State abbreviation (HD2023)</th><th>Carnegie Classification 2021: Undergraduate Profile (HD2023)</th><th>Primary public control (IC2023)</th><th>Yellow Ribbon Program (officially known as Post-9/11 GI Bill, Yellow Ribbon Program) (IC2023)</th><th>Dedicated point of contact for support services for veterans, military servicemembers, and their families (IC2023)</th><th>Credit for military training (IC2023)</th><th>Recognized student veteran organization (IC2023)</th><th>Member of Department of Defense Voluntary Educational Partnership Memorandum of Understanding (IC2023)</th><th>Percent of undergraduates  who are formally registered as students with disabilities  when percentage is more than 3 percent (IC2023)</th><th>Percent indicator of undergraduates formally registered as students with disabilities (IC2023)</th><th>Grand total (C2023_A  First major  Grand total  Bachelor&#x27;s degree)</th><th>Grand total (C2023_A  First major  Grand total  Master&#x27;s degree)</th><th>Grand total (C2023_A  First major  Grand total  Doctor&#x27;s degree - research/scholarship )</th><th>Grand total (C2023_A  First major  Grand total  Doctor&#x27;s degree - professional practice )</th><th>Grand total (C2023_A  First major  Grand total  Doctor&#x27;s degree - other )</th><th>Percent of undergraduate students awarded federal  state  local  institutional or other sources of grant aid (SFA2223)</th><th>Percent of undergraduate students awarded Federal Pell grants (SFA2223)</th><th>Average amount Federal Pell grant aid awarded to undergraduate students (SFA2223)</th><th>Average amount of federal  state  local  institutional or other sources of grant aid awarded to undergraduate students (SFA2223)</th><th>Percent of undergraduate students awarded federal student loans (SFA2223)</th><th>Average amount of federal student loans awarded to undergraduate students (SFA2223)</th><th>Average net price-students awarded grant or scholarship aid  2022-23 (SFA2223)</th><th>Graduation rate - Bachelor degree within 4 years  total (DRVGR2023)</th><th>Graduation rate - Bachelor degree within 5 years  total (DRVGR2023)</th><th>Graduation rate - Bachelor degree within 6 years  total (DRVGR2023)</th><th>Transfer-out rate - Bachelor cohort (DRVGR2023)</th><th>Pell Grant recipients - Bachelor&#x27;s degree rate within 6 years (DRVGR2023)</th><th>Tuition and fees as a percent of core revenues (GASB) (DRVF2023)</th><th>State appropriations as percent of core revenues  (GASB) (DRVF2023)</th><th>Local appropriations as a percent of core revenues (GASB) (DRVF2023)</th><th>Government grants and contracts as a percent of core revenues (GASB) (DRVF2023)</th><th>Investment return as a percent of core revenues (GASB) (DRVF2023)</th><th>&hellip;</th><th>Digital/Electronic serials as a percent of the total library collection (DRVAL2023)</th><th>Total library expenditures per FTE (DRVAL2023)</th><th>Applicants total (ADM2023)</th><th>Admissions total (ADM2023)</th><th>Enrolled total (ADM2023)</th><th>Total price for in-state students living on campus 2023-24 (DRVIC2023)</th><th>Total price for out-of-state students living on campus 2023-24 (DRVIC2023)</th><th>Grand total (EF2023B  Undergraduate  Age under 25 total)</th><th>Grand total (EF2023B  Undergraduate  All age categories total)</th><th>Grand total (EF2023B  Undergraduate  Age 25 and over total)</th><th>Grand total (EF2023B  Undergraduate  Age unknown)</th><th>Grand total (EF2023  All students total)</th><th>Grand total (EF2023  All students  Undergraduate total)</th><th>Grand total (EF2023  All students  Graduate and First professional)</th><th>Grand total (EF2023A  All students total)</th><th>Grand total men (EF2023A  All students total)</th><th>Grand total women (EF2023A  All students total)</th><th>American Indian or Alaska Native total (EF2023A  All students total)</th><th>Asian total (EF2023A  All students total)</th><th>Black or African American total (EF2023A  All students total)</th><th>Hispanic total (EF2023A  All students total)</th><th>Native Hawaiian or Other Pacific Islander total (EF2023A  All students total)</th><th>White total (EF2023A  All students total)</th><th>Two or more races total (EF2023A  All students total)</th><th>Race/ethnicity unknown total (EF2023A  All students total)</th><th>U.S. Nonresident total (EF2023A  All students total)</th><th>All students enrolled (EF2023A_DIST  Undergraduate total)</th><th>Students enrolled exclusively in distance education courses (EF2023A_DIST  Undergraduate total)</th><th>Students enrolled in some but not all distance education courses (EF2023A_DIST  Undergraduate total)</th><th>Student not enrolled in any distance education courses (EF2023A_DIST  Undergraduate total)</th><th>Total library FTE staff (AL2023)</th><th>Total physical library circulations (books and media) (AL2023)</th><th>Total library circulations (physical and digital/electronic) (AL2023)</th><th>Total digital/electronic circulations (books and media) (AL2023)</th><th>Full-time retention rate  2023 (EF2023D)</th><th>Student-to-faculty ratio (EF2023D)</th><th>Admission Rate</th></tr><tr><td>str</td><td>str</td><td>str</td><td>str</td><td>str</td><td>str</td><td>str</td><td>str</td><td>str</td><td>str</td><td>str</td><td>str</td><td>str</td><td>f64</td><td>str</td><td>i64</td><td>i64</td><td>i64</td><td>i64</td><td>i64</td><td>i64</td><td>i64</td><td>i64</td><td>i64</td><td>i64</td><td>i64</td><td>i64</td><td>i64</td><td>i64</td><td>i64</td><td>i64</td><td>i64</td><td>i64</td><td>i64</td><td>i64</td><td>i64</td><td>i64</td><td>&hellip;</td><td>i64</td><td>i64</td><td>i64</td><td>i64</td><td>i64</td><td>i64</td><td>i64</td><td>i64</td><td>i64</td><td>i64</td><td>i64</td><td>i64</td><td>i64</td><td>i64</td><td>i64</td><td>i64</td><td>i64</td><td>i64</td><td>i64</td><td>i64</td><td>i64</td><td>i64</td><td>i64</td><td>i64</td><td>i64</td><td>i64</td><td>i64</td><td>i64</td><td>i64</td><td>i64</td><td>f64</td><td>i64</td><td>i64</td><td>i64</td><td>i64</td><td>i64</td><td>f64</td></tr></thead><tbody><tr><td>&quot;Appalachian State University&quot;</td><td>&quot;No&quot;</td><td>&quot;No&quot;</td><td>&quot;Master&#x27;s Colleges &amp; Universiti…</td><td>&quot;No&quot;</td><td>&quot;NC&quot;</td><td>&quot;Four-year, full-time, selectiv…</td><td>&quot;State&quot;</td><td>&quot;Implied no&quot;</td><td>&quot;Yes&quot;</td><td>&quot;Yes&quot;</td><td>&quot;Yes&quot;</td><td>&quot;Yes&quot;</td><td>5.67</td><td>&quot;More than 3 percent&quot;</td><td>4005</td><td>818</td><td>20</td><td>0</td><td>null</td><td>44</td><td>26</td><td>5294</td><td>8743</td><td>38</td><td>6175</td><td>14712</td><td>58</td><td>71</td><td>73</td><td>18</td><td>66</td><td>30</td><td>40</td><td>0</td><td>14</td><td>1</td><td>&hellip;</td><td>6</td><td>622</td><td>24001</td><td>21275</td><td>4227</td><td>23324</td><td>40320</td><td>18272</td><td>19405</td><td>1133</td><td>null</td><td>21253</td><td>19405</td><td>1848</td><td>21253</td><td>9033</td><td>12220</td><td>43</td><td>374</td><td>740</td><td>1800</td><td>5</td><td>17109</td><td>930</td><td>137</td><td>115</td><td>19405</td><td>1169</td><td>8960</td><td>9276</td><td>116.25</td><td>32244</td><td>733117</td><td>700873</td><td>85</td><td>16</td><td>0.886421</td></tr><tr><td>&quot;California State University-Do…</td><td>&quot;No&quot;</td><td>&quot;No&quot;</td><td>&quot;Master&#x27;s Colleges &amp; Universiti…</td><td>&quot;No&quot;</td><td>&quot;CA&quot;</td><td>&quot;Four-year, medium full-time, i…</td><td>&quot;State&quot;</td><td>&quot;Implied no&quot;</td><td>&quot;Yes&quot;</td><td>&quot;Yes&quot;</td><td>&quot;Yes&quot;</td><td>&quot;Yes&quot;</td><td>4.9</td><td>&quot;More than 3 percent&quot;</td><td>3302</td><td>671</td><td>null</td><td>null</td><td>null</td><td>79</td><td>61</td><td>5016</td><td>10764</td><td>20</td><td>6930</td><td>4438</td><td>18</td><td>39</td><td>47</td><td>3</td><td>46</td><td>16</td><td>47</td><td>0</td><td>31</td><td>1</td><td>&hellip;</td><td>16</td><td>275</td><td>19040</td><td>17388</td><td>1721</td><td>28770</td><td>40650</td><td>8843</td><td>12730</td><td>3887</td><td>null</td><td>15181</td><td>12730</td><td>2451</td><td>15181</td><td>5918</td><td>9263</td><td>13</td><td>1154</td><td>1739</td><td>10194</td><td>33</td><td>893</td><td>342</td><td>435</td><td>378</td><td>12730</td><td>1218</td><td>6626</td><td>4886</td><td>51.0</td><td>2898</td><td>509114</td><td>506216</td><td>66</td><td>18</td><td>0.913235</td></tr><tr><td>&quot;California State University-Lo…</td><td>&quot;No&quot;</td><td>&quot;No&quot;</td><td>&quot;Master&#x27;s Colleges &amp; Universiti…</td><td>&quot;No&quot;</td><td>&quot;CA&quot;</td><td>&quot;Four-year, full-time, inclusiv…</td><td>&quot;State&quot;</td><td>&quot;Implied no&quot;</td><td>&quot;Yes&quot;</td><td>&quot;Yes&quot;</td><td>&quot;Yes&quot;</td><td>&quot;Yes&quot;</td><td>5.1</td><td>&quot;More than 3 percent&quot;</td><td>5596</td><td>1205</td><td>20</td><td>19</td><td>null</td><td>85</td><td>66</td><td>5338</td><td>11682</td><td>20</td><td>7029</td><td>4551</td><td>21</td><td>44</td><td>53</td><td>2</td><td>52</td><td>14</td><td>43</td><td>0</td><td>37</td><td>2</td><td>&hellip;</td><td>14</td><td>313</td><td>32748</td><td>30106</td><td>3614</td><td>33345</td><td>45225</td><td>16473</td><td>21527</td><td>5054</td><td>null</td><td>25080</td><td>21527</td><td>3553</td><td>25080</td><td>10654</td><td>14426</td><td>22</td><td>2595</td><td>994</td><td>18663</td><td>17</td><td>1255</td><td>380</td><td>597</td><td>557</td><td>21527</td><td>1045</td><td>10690</td><td>9792</td><td>56.0</td><td>5455</td><td>809820</td><td>804365</td><td>73</td><td>19</td><td>0.919323</td></tr><tr><td>&quot;Minnesota State University-Man…</td><td>&quot;No&quot;</td><td>&quot;No&quot;</td><td>&quot;Master&#x27;s Colleges &amp; Universiti…</td><td>&quot;No&quot;</td><td>&quot;MN&quot;</td><td>&quot;Four-year, full-time, inclusiv…</td><td>&quot;State&quot;</td><td>&quot;Yes&quot;</td><td>&quot;Yes&quot;</td><td>&quot;Yes&quot;</td><td>&quot;Yes&quot;</td><td>&quot;Yes&quot;</td><td>5.0</td><td>&quot;More than 3 percent&quot;</td><td>2626</td><td>606</td><td>18</td><td>19</td><td>null</td><td>54</td><td>20</td><td>4416</td><td>6324</td><td>42</td><td>6479</td><td>17227</td><td>33</td><td>48</td><td>54</td><td>31</td><td>44</td><td>51</td><td>30</td><td>0</td><td>14</td><td>1</td><td>&hellip;</td><td>8</td><td>454</td><td>8974</td><td>8196</td><td>2407</td><td>24428</td><td>33798</td><td>11430</td><td>12897</td><td>1406</td><td>61</td><td>14709</td><td>12897</td><td>1812</td><td>14709</td><td>6224</td><td>8485</td><td>40</td><td>491</td><td>844</td><td>831</td><td>7</td><td>10503</td><td>472</td><td>197</td><td>1324</td><td>12897</td><td>1550</td><td>6349</td><td>4998</td><td>50.0</td><td>15851</td><td>382081</td><td>366230</td><td>80</td><td>21</td><td>0.913305</td></tr><tr><td>&quot;Southern Utah University&quot;</td><td>&quot;No&quot;</td><td>&quot;No&quot;</td><td>&quot;Master&#x27;s Colleges &amp; Universiti…</td><td>&quot;No&quot;</td><td>&quot;UT&quot;</td><td>&quot;Four-year, full-time, selectiv…</td><td>&quot;State&quot;</td><td>&quot;Implied no&quot;</td><td>&quot;Yes&quot;</td><td>&quot;Yes&quot;</td><td>&quot;Yes&quot;</td><td>&quot;Yes&quot;</td><td>6.5</td><td>&quot;More than 3 percent&quot;</td><td>1552</td><td>738</td><td>null</td><td>0</td><td>null</td><td>60</td><td>24</td><td>7530</td><td>9964</td><td>17</td><td>5961</td><td>12375</td><td>33</td><td>44</td><td>51</td><td>null</td><td>42</td><td>37</td><td>31</td><td>0</td><td>17</td><td>2</td><td>&hellip;</td><td>7</td><td>192</td><td>19190</td><td>15443</td><td>2269</td><td>20294</td><td>34110</td><td>9548</td><td>13043</td><td>3493</td><td>2</td><td>15033</td><td>13043</td><td>1990</td><td>15033</td><td>6272</td><td>8761</td><td>140</td><td>262</td><td>308</td><td>1317</td><td>115</td><td>11051</td><td>95</td><td>1034</td><td>711</td><td>13043</td><td>3484</td><td>4118</td><td>5441</td><td>30.25</td><td>27044</td><td>559373</td><td>532329</td><td>74</td><td>22</td><td>0.804742</td></tr><tr><td>&quot;Towson University&quot;</td><td>&quot;No&quot;</td><td>&quot;No&quot;</td><td>&quot;Master&#x27;s Colleges &amp; Universiti…</td><td>&quot;No&quot;</td><td>&quot;MD&quot;</td><td>&quot;Four-year, full-time, selectiv…</td><td>&quot;State&quot;</td><td>&quot;Yes&quot;</td><td>&quot;Yes&quot;</td><td>&quot;Yes&quot;</td><td>&quot;Yes&quot;</td><td>&quot;Yes&quot;</td><td>5.4</td><td>&quot;More than 3 percent&quot;</td><td>4064</td><td>844</td><td>12</td><td>38</td><td>null</td><td>57</td><td>33</td><td>5205</td><td>10939</td><td>43</td><td>6334</td><td>15064</td><td>45</td><td>64</td><td>68</td><td>21</td><td>64</td><td>27</td><td>41</td><td>0</td><td>9</td><td>2</td><td>&hellip;</td><td>4</td><td>477</td><td>18948</td><td>15689</td><td>3014</td><td>31390</td><td>48410</td><td>14947</td><td>16517</td><td>1570</td><td>null</td><td>19527</td><td>16517</td><td>3010</td><td>19527</td><td>7589</td><td>11938</td><td>22</td><td>1279</td><td>5842</td><td>1963</td><td>11</td><td>8287</td><td>1034</td><td>671</td><td>418</td><td>16517</td><td>325</td><td>5902</td><td>10290</td><td>63.0</td><td>11865</td><td>847266</td><td>835401</td><td>83</td><td>14</td><td>0.828003</td></tr><tr><td>&quot;Troy University&quot;</td><td>&quot;No&quot;</td><td>&quot;No&quot;</td><td>&quot;Master&#x27;s Colleges &amp; Universiti…</td><td>&quot;No&quot;</td><td>&quot;AL&quot;</td><td>&quot;Four-year, medium full-time, i…</td><td>&quot;State&quot;</td><td>&quot;Yes&quot;</td><td>&quot;Yes&quot;</td><td>&quot;Yes&quot;</td><td>&quot;Yes&quot;</td><td>&quot;Yes&quot;</td><td>null</td><td>&quot;3 percent or less&quot;</td><td>2101</td><td>1098</td><td>9</td><td>18</td><td>null</td><td>74</td><td>42</td><td>4594</td><td>6899</td><td>66</td><td>4831</td><td>12504</td><td>28</td><td>42</td><td>46</td><td>29</td><td>37</td><td>33</td><td>21</td><td>0</td><td>17</td><td>5</td><td>&hellip;</td><td>20</td><td>325</td><td>7947</td><td>7360</td><td>1717</td><td>24158</td><td>33950</td><td>6935</td><td>10468</td><td>3533</td><td>null</td><td>13923</td><td>10468</td><td>3455</td><td>13923</td><td>5154</td><td>8769</td><td>36</td><td>161</td><td>4397</td><td>742</td><td>20</td><td>7229</td><td>586</td><td>358</td><td>394</td><td>10468</td><td>4586</td><td>2123</td><td>3759</td><td>27.5</td><td>2507</td><td>214045</td><td>211538</td><td>73</td><td>15</td><td>0.926136</td></tr><tr><td>&quot;University of Houston-Downtown&quot;</td><td>&quot;No&quot;</td><td>&quot;No&quot;</td><td>&quot;Master&#x27;s Colleges &amp; Universiti…</td><td>&quot;No&quot;</td><td>&quot;TX&quot;</td><td>&quot;Four-year, higher part-time&quot;</td><td>&quot;State&quot;</td><td>&quot;Implied no&quot;</td><td>&quot;Yes&quot;</td><td>&quot;Yes&quot;</td><td>&quot;Yes&quot;</td><td>&quot;Yes&quot;</td><td>null</td><td>&quot;3 percent or less&quot;</td><td>2824</td><td>581</td><td>null</td><td>null</td><td>null</td><td>77</td><td>52</td><td>4782</td><td>5946</td><td>30</td><td>8006</td><td>14269</td><td>15</td><td>28</td><td>34</td><td>31</td><td>36</td><td>39</td><td>16</td><td>0</td><td>28</td><td>3</td><td>&hellip;</td><td>16</td><td>446</td><td>6953</td><td>6302</td><td>1491</td><td>null</td><td>null</td><td>7486</td><td>12880</td><td>5394</td><td>null</td><td>14105</td><td>12880</td><td>1225</td><td>14105</td><td>5380</td><td>8725</td><td>14</td><td>1188</td><td>2526</td><td>7973</td><td>13</td><td>1604</td><td>356</td><td>123</td><td>308</td><td>12880</td><td>4355</td><td>4918</td><td>3607</td><td>44.5</td><td>19360</td><td>453024</td><td>433664</td><td>67</td><td>18</td><td>0.906371</td></tr><tr><td>&quot;Western Washington University&quot;</td><td>&quot;No&quot;</td><td>&quot;No&quot;</td><td>&quot;Master&#x27;s Colleges &amp; Universiti…</td><td>&quot;No&quot;</td><td>&quot;WA&quot;</td><td>&quot;Four-year, full-time, selectiv…</td><td>&quot;State&quot;</td><td>&quot;Yes&quot;</td><td>&quot;Yes&quot;</td><td>&quot;Yes&quot;</td><td>&quot;Implied no&quot;</td><td>&quot;Yes&quot;</td><td>14.89</td><td>&quot;More than 3 percent&quot;</td><td>3265</td><td>286</td><td>0</td><td>5</td><td>null</td><td>59</td><td>21</td><td>4720</td><td>9018</td><td>28</td><td>5955</td><td>22096</td><td>42</td><td>61</td><td>66</td><td>null</td><td>56</td><td>37</td><td>34</td><td>0</td><td>19</td><td>1</td><td>&hellip;</td><td>6</td><td>718</td><td>14243</td><td>13005</td><td>3184</td><td>29967</td><td>48534</td><td>12707</td><td>13704</td><td>997</td><td>null</td><td>14651</td><td>13704</td><td>947</td><td>14651</td><td>6160</td><td>8491</td><td>56</td><td>840</td><td>282</td><td>1602</td><td>30</td><td>10071</td><td>1298</td><td>298</td><td>174</td><td>13704</td><td>166</td><td>1762</td><td>11776</td><td>72.22</td><td>16488</td><td>486017</td><td>469529</td><td>80</td><td>17</td><td>0.91308</td></tr></tbody></table></div>"
      ],
      "text/plain": [
       "shape: (9, 106)\n",
       "┌───────────┬───────────┬───────────┬───────────┬───┬───────────┬───────────┬───────────┬──────────┐\n",
       "│ Instituti ┆ Historica ┆ Tribal    ┆ Carnegie  ┆ … ┆ Total dig ┆ Full-time ┆ Student-t ┆ Admissio │\n",
       "│ on Name   ┆ lly Black ┆ college   ┆ Classific ┆   ┆ ital/elec ┆ retention ┆ o-faculty ┆ n Rate   │\n",
       "│ ---       ┆ College   ┆ (HD2023)  ┆ ation     ┆   ┆ tronic    ┆ rate      ┆ ratio     ┆ ---      │\n",
       "│ str       ┆ or …      ┆ ---       ┆ 2021: …   ┆   ┆ circu…    ┆ 2023…     ┆ (EF20…    ┆ f64      │\n",
       "│           ┆ ---       ┆ str       ┆ ---       ┆   ┆ ---       ┆ ---       ┆ ---       ┆          │\n",
       "│           ┆ str       ┆           ┆ str       ┆   ┆ i64       ┆ i64       ┆ i64       ┆          │\n",
       "╞═══════════╪═══════════╪═══════════╪═══════════╪═══╪═══════════╪═══════════╪═══════════╪══════════╡\n",
       "│ Appalachi ┆ No        ┆ No        ┆ Master's  ┆ … ┆ 700873    ┆ 85        ┆ 16        ┆ 0.886421 │\n",
       "│ an State  ┆           ┆           ┆ Colleges  ┆   ┆           ┆           ┆           ┆          │\n",
       "│ Universit ┆           ┆           ┆ & Univers ┆   ┆           ┆           ┆           ┆          │\n",
       "│ y         ┆           ┆           ┆ iti…      ┆   ┆           ┆           ┆           ┆          │\n",
       "│ Californi ┆ No        ┆ No        ┆ Master's  ┆ … ┆ 506216    ┆ 66        ┆ 18        ┆ 0.913235 │\n",
       "│ a State   ┆           ┆           ┆ Colleges  ┆   ┆           ┆           ┆           ┆          │\n",
       "│ Universit ┆           ┆           ┆ & Univers ┆   ┆           ┆           ┆           ┆          │\n",
       "│ y-Do…     ┆           ┆           ┆ iti…      ┆   ┆           ┆           ┆           ┆          │\n",
       "│ Californi ┆ No        ┆ No        ┆ Master's  ┆ … ┆ 804365    ┆ 73        ┆ 19        ┆ 0.919323 │\n",
       "│ a State   ┆           ┆           ┆ Colleges  ┆   ┆           ┆           ┆           ┆          │\n",
       "│ Universit ┆           ┆           ┆ & Univers ┆   ┆           ┆           ┆           ┆          │\n",
       "│ y-Lo…     ┆           ┆           ┆ iti…      ┆   ┆           ┆           ┆           ┆          │\n",
       "│ Minnesota ┆ No        ┆ No        ┆ Master's  ┆ … ┆ 366230    ┆ 80        ┆ 21        ┆ 0.913305 │\n",
       "│ State Uni ┆           ┆           ┆ Colleges  ┆   ┆           ┆           ┆           ┆          │\n",
       "│ versity-M ┆           ┆           ┆ & Univers ┆   ┆           ┆           ┆           ┆          │\n",
       "│ an…       ┆           ┆           ┆ iti…      ┆   ┆           ┆           ┆           ┆          │\n",
       "│ Southern  ┆ No        ┆ No        ┆ Master's  ┆ … ┆ 532329    ┆ 74        ┆ 22        ┆ 0.804742 │\n",
       "│ Utah Univ ┆           ┆           ┆ Colleges  ┆   ┆           ┆           ┆           ┆          │\n",
       "│ ersity    ┆           ┆           ┆ & Univers ┆   ┆           ┆           ┆           ┆          │\n",
       "│           ┆           ┆           ┆ iti…      ┆   ┆           ┆           ┆           ┆          │\n",
       "│ Towson    ┆ No        ┆ No        ┆ Master's  ┆ … ┆ 835401    ┆ 83        ┆ 14        ┆ 0.828003 │\n",
       "│ Universit ┆           ┆           ┆ Colleges  ┆   ┆           ┆           ┆           ┆          │\n",
       "│ y         ┆           ┆           ┆ & Univers ┆   ┆           ┆           ┆           ┆          │\n",
       "│           ┆           ┆           ┆ iti…      ┆   ┆           ┆           ┆           ┆          │\n",
       "│ Troy Univ ┆ No        ┆ No        ┆ Master's  ┆ … ┆ 211538    ┆ 73        ┆ 15        ┆ 0.926136 │\n",
       "│ ersity    ┆           ┆           ┆ Colleges  ┆   ┆           ┆           ┆           ┆          │\n",
       "│           ┆           ┆           ┆ & Univers ┆   ┆           ┆           ┆           ┆          │\n",
       "│           ┆           ┆           ┆ iti…      ┆   ┆           ┆           ┆           ┆          │\n",
       "│ Universit ┆ No        ┆ No        ┆ Master's  ┆ … ┆ 433664    ┆ 67        ┆ 18        ┆ 0.906371 │\n",
       "│ y of Hous ┆           ┆           ┆ Colleges  ┆   ┆           ┆           ┆           ┆          │\n",
       "│ ton-Downt ┆           ┆           ┆ & Univers ┆   ┆           ┆           ┆           ┆          │\n",
       "│ own       ┆           ┆           ┆ iti…      ┆   ┆           ┆           ┆           ┆          │\n",
       "│ Western   ┆ No        ┆ No        ┆ Master's  ┆ … ┆ 469529    ┆ 80        ┆ 17        ┆ 0.91308  │\n",
       "│ Washingto ┆           ┆           ┆ Colleges  ┆   ┆           ┆           ┆           ┆          │\n",
       "│ n Univers ┆           ┆           ┆ & Univers ┆   ┆           ┆           ┆           ┆          │\n",
       "│ ity       ┆           ┆           ┆ iti…      ┆   ┆           ┆           ┆           ┆          │\n",
       "└───────────┴───────────┴───────────┴───────────┴───┴───────────┴───────────┴───────────┴──────────┘"
      ]
     },
     "execution_count": 10,
     "metadata": {},
     "output_type": "execute_result"
    }
   ],
   "source": [
    "TU_population = 19527\n",
    "TU_admission_rate = 0.83\n",
    "\n",
    "data_df.with_columns(\n",
    "    (\n",
    "        pl.col(\"Admissions total (ADM2023)\")\n",
    "        / pl.col(\"Applicants total (ADM2023)\")\n",
    "    ).alias(\"Admission Rate\")\n",
    ").filter(\n",
    "    (pl.col(\"Carnegie Classification 2021: Basic (HD2023)\")\n",
    "    == \"Master's Colleges & Universities: Larger Programs\")\n",
    "    & (pl.col(\"Grand total (EF2023  All students total)\").is_between(\n",
    "        TU_population - 6000, TU_population + 6000\n",
    "    ))\n",
    "    & (pl.col(\"Admission Rate\").is_between(\n",
    "        TU_admission_rate - 0.10, TU_admission_rate + 0.10\n",
    "    ))\n",
    ")"
   ]
  },
  {
   "cell_type": "code",
   "execution_count": null,
   "id": "NCOB",
   "metadata": {},
   "outputs": [],
   "source": [
    "data_df.filter(\n",
    "    pl.col(\"Carnegie Classification 2021: Basic (HD2023)\")\n",
    "    == \"Master's Colleges & Universities: Larger Programs\"\n",
    ")"
   ]
  },
  {
   "cell_type": "code",
   "execution_count": null,
   "id": "TXez",
   "metadata": {},
   "outputs": [],
   "source": [
    "from sklearn.preprocessing import MinMaxScaler\n",
    "\n",
    "scaler = MinMaxScaler()\n",
    "\n",
    "scaled_df = pl.DataFrame(\n",
    "    scaler.fit_transform(\n",
    "        merged_forbes.select(col_sel[\"Expenditures\"]).to_numpy()\n",
    "    ),\n",
    "    schema=merged_forbes.columns[\n",
    "        column_ranges[\"Expenditures\"][0] : column_ranges[\"Expenditures\"][1]\n",
    "    ],\n",
    ")\n",
    "scaled_df"
   ]
  },
  {
   "cell_type": "code",
   "execution_count": null,
   "id": "dNNg",
   "metadata": {},
   "outputs": [],
   "source": [
    "import marimo as mo"
   ]
  },
  {
   "cell_type": "markdown",
   "id": "Hbol",
   "metadata": {
    "marimo": {
     "config": {
      "hide_code": true
     }
    }
   },
   "source": [
    "# Exploring the data\n",
    "\n",
    "Ideas:\n",
    "- Train a model that eventually matches with real world rankings\n",
    "- Determine the features that have the most impact based on the weights"
   ]
  },
  {
   "cell_type": "markdown",
   "id": "vblA",
   "metadata": {
    "marimo": {
     "config": {
      "hide_code": true
     }
    }
   },
   "source": [
    "## Mapping labels with string classification\n",
    "\n",
    "Un-doing the categorical encoding already presented to get a better understanding of the data."
   ]
  },
  {
   "cell_type": "markdown",
   "id": "lEQa",
   "metadata": {
    "marimo": {
     "config": {
      "hide_code": true
     }
    }
   },
   "source": [
    "## Data decoding"
   ]
  },
  {
   "cell_type": "markdown",
   "id": "Xref",
   "metadata": {
    "marimo": {
     "config": {
      "hide_code": true
     }
    }
   },
   "source": [
    "## Add real world rankings\n",
    "\n",
    "Add columns on where an institution ranks\n",
    "\n",
    "Each real world ranking such as:\n",
    "- U.S. News Best Colleges\n",
    "- Wall Street Journal\n",
    "- Princeton Review\n",
    "- Forbes\n",
    "- Washington Monthly\n",
    "\n",
    "Analyze and look for patterns for each rankings with the variables from the original data"
   ]
  },
  {
   "cell_type": "markdown",
   "id": "SFPL",
   "metadata": {
    "marimo": {
     "config": {
      "hide_code": true
     }
    }
   },
   "source": [
    "### External College Rankings\n",
    "\n",
    "External rankings use different annotations so an exact merge is not always possible.\n",
    "Use fuzzy matching with a threshold of 97 for accuracy\n",
    "\n",
    "#### Niche\n",
    "\n",
    "TU ranks 341.\n",
    "\n",
    "#### Forbes 2025\n",
    "\n",
    "TU ranks 174\n",
    "\n",
    "#### Times Higher Ed\n",
    "\n",
    "TU ranks 391"
   ]
  },
  {
   "cell_type": "markdown",
   "id": "Kclp",
   "metadata": {},
   "source": [
    "### Financial Aid\n",
    "\n",
    "I'm going to guess that TU excels at financial aid\n",
    "\n",
    "Find the relationship between student success and the percentage of students awarded grants etc.\n",
    "\n",
    "Study shows that students tend to perform best when they're not stressed about paying for college.\n",
    "\n",
    "Student retention also tends to be so much better\n",
    "\n",
    "TODO:\n",
    "\n",
    "- Rank where TU falls in terms of average amount of grants awarded"
   ]
  },
  {
   "cell_type": "markdown",
   "id": "ZHCJ",
   "metadata": {},
   "source": [
    "According to https://www.towson.edu/ir/reports.html the following are the peer institutions that TU leadership would like to compete with.\n",
    "\n",
    "For the competition, we have to create our own list of institutions."
   ]
  },
  {
   "cell_type": "markdown",
   "id": "qnkX",
   "metadata": {
    "marimo": {
     "config": {
      "hide_code": true
     }
    }
   },
   "source": [
    "## Column Groupings\n",
    "\n",
    "To avoid the possibility of carpal tunnel, we group the columns.\n",
    "It's a (-2, +1) column ranges"
   ]
  },
  {
   "cell_type": "markdown",
   "id": "DnEU",
   "metadata": {
    "marimo": {
     "config": {
      "hide_code": true
     }
    }
   },
   "source": [
    "#### Grouping by population size"
   ]
  },
  {
   "cell_type": "markdown",
   "id": "ecfG",
   "metadata": {
    "marimo": {
     "config": {
      "hide_code": true
     }
    }
   },
   "source": [
    "#### How TU compares to other Maryland colleges"
   ]
  },
  {
   "cell_type": "markdown",
   "id": "Pvdt",
   "metadata": {
    "marimo": {
     "config": {
      "hide_code": true
     }
    }
   },
   "source": [
    "#### Relationship between admission rate and student success\n",
    "\n",
    "Compare the ranking of TU with next and previous 5 ranked institutions\n",
    "So does TU need to be more selective in order to rank higher?\n",
    "\n",
    "Swear to god some kids here should've stayed in High School"
   ]
  },
  {
   "cell_type": "markdown",
   "id": "ZBYS",
   "metadata": {},
   "source": [
    "Towson's research expenses is only at 2%.\n",
    "\n",
    "Find the relationship between research expenses and the number of international students"
   ]
  },
  {
   "cell_type": "markdown",
   "id": "AjVT",
   "metadata": {},
   "source": [
    "### Peer Institutions\n",
    "\n",
    "Peer institutions will have similar:\n",
    "\n",
    "- Carnegie classification\n",
    "- Population size\n",
    "- Admissions rate"
   ]
  },
  {
   "cell_type": "markdown",
   "id": "aqbW",
   "metadata": {
    "marimo": {
     "config": {
      "hide_code": true
     }
    }
   },
   "source": [
    "## Data Preprocessing"
   ]
  },
  {
   "cell_type": "markdown",
   "id": "TRpd",
   "metadata": {},
   "source": [
    "### Weights of each different types of expenses\n",
    "\n",
    "Use a learning to rank model to rank each institution\n",
    "\n",
    "Get the weights of the greatest accuracy"
   ]
  }
 ],
 "metadata": {
  "kernelspec": {
   "display_name": "Python 3 (ipykernel)",
   "language": "python",
   "name": "python3"
  },
  "language_info": {
   "codemirror_mode": {
    "name": "ipython",
    "version": 3
   },
   "file_extension": ".py",
   "mimetype": "text/x-python",
   "name": "python",
   "nbconvert_exporter": "python",
   "pygments_lexer": "ipython3",
   "version": "3.13.2"
  }
 },
 "nbformat": 4,
 "nbformat_minor": 5
}
